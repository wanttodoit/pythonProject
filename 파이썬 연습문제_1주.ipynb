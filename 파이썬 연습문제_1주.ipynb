{
 "cells": [
  {
   "cell_type": "markdown",
   "id": "b13d7a89",
   "metadata": {},
   "source": [
    "### 0번 문제"
   ]
  },
  {
   "cell_type": "code",
   "execution_count": 1,
   "id": "e1f64a9d",
   "metadata": {},
   "outputs": [
    {
     "name": "stdout",
     "output_type": "stream",
     "text": [
      "Hello Python\n"
     ]
    }
   ],
   "source": [
    "print(\"Hello Python\")"
   ]
  },
  {
   "cell_type": "markdown",
   "id": "35d6524a",
   "metadata": {},
   "source": [
    "### 1번 문제"
   ]
  },
  {
   "cell_type": "code",
   "execution_count": 2,
   "id": "079fbf96",
   "metadata": {},
   "outputs": [
    {
     "name": "stdout",
     "output_type": "stream",
     "text": [
      "12345600\n"
     ]
    }
   ],
   "source": [
    "pay = 12345678\n",
    "\n",
    "print(pay // 100 * 100)"
   ]
  },
  {
   "cell_type": "markdown",
   "id": "12e85a76",
   "metadata": {},
   "source": [
    "### 2번 문제"
   ]
  },
  {
   "cell_type": "code",
   "execution_count": 6,
   "id": "303dd3b5",
   "metadata": {},
   "outputs": [
    {
     "name": "stdout",
     "output_type": "stream",
     "text": [
      "4\n"
     ]
    }
   ],
   "source": [
    "a = int(input(\"a (아무 숫자): \"))\n",
    "b = int(input(\"b (몇째 자리): \"))\n",
    "\n",
    "c = (a // (10 ** (b - 1))) % 10\n",
    "\n",
    "print(c)"
   ]
  },
  {
   "cell_type": "markdown",
   "id": "69fc256e",
   "metadata": {},
   "source": [
    "### 3번 문제"
   ]
  },
  {
   "cell_type": "code",
   "execution_count": 7,
   "id": "ada8c9b8",
   "metadata": {},
   "outputs": [
    {
     "name": "stdout",
     "output_type": "stream",
     "text": [
      "12.5\n"
     ]
    }
   ],
   "source": [
    "a = int(input(\"삼각형의 밑변: \"))\n",
    "b = int(input(\"삼각형의 높이: \"))\n",
    "\n",
    "area = a * b / 2\n",
    "\n",
    "print(area)"
   ]
  },
  {
   "cell_type": "markdown",
   "id": "82de8df1",
   "metadata": {},
   "source": [
    "### 4번 문제"
   ]
  },
  {
   "cell_type": "code",
   "execution_count": 13,
   "id": "f4449127",
   "metadata": {},
   "outputs": [
    {
     "name": "stdout",
     "output_type": "stream",
     "text": [
      "10.0\n"
     ]
    }
   ],
   "source": [
    "n = int(input(\"n 단계: \"))\n",
    "\n",
    "num = n*(n+1)/2\n",
    "\n",
    "print(num)"
   ]
  },
  {
   "cell_type": "markdown",
   "id": "222fc2e9",
   "metadata": {},
   "source": [
    "### 5번 문제"
   ]
  },
  {
   "cell_type": "code",
   "execution_count": 16,
   "id": "279afa99",
   "metadata": {},
   "outputs": [
    {
     "name": "stdout",
     "output_type": "stream",
     "text": [
      "12\n",
      "444\n"
     ]
    }
   ],
   "source": [
    "num1 = int(input(\"정수 1번\"))\n",
    "num2 = int(input(\"정수 2번\"))\n",
    "\n",
    "first = num1 * num2\n",
    "\n",
    "sec = str(num1) * num2\n",
    "\n",
    "print(first)\n",
    "print(sec)\n"
   ]
  },
  {
   "cell_type": "markdown",
   "id": "40c75c2a",
   "metadata": {},
   "source": [
    "### 6번 문제"
   ]
  },
  {
   "cell_type": "code",
   "execution_count": 24,
   "id": "f593e4ee",
   "metadata": {},
   "outputs": [
    {
     "name": "stdout",
     "output_type": "stream",
     "text": [
      "짝수\n"
     ]
    }
   ],
   "source": [
    "number = int(input(\"아무 숫자: \"))\n",
    "\n",
    "if number % 2 == 0:\n",
    "    print(\"짝수\")\n",
    "else:\n",
    "    print(\"홀수\")"
   ]
  },
  {
   "cell_type": "markdown",
   "id": "6519effa",
   "metadata": {},
   "source": [
    "### 7번 문제"
   ]
  },
  {
   "cell_type": "code",
   "execution_count": 26,
   "id": "4af9bdf3",
   "metadata": {},
   "outputs": [
    {
     "name": "stdout",
     "output_type": "stream",
     "text": [
      "B\n"
     ]
    }
   ],
   "source": [
    "score = int(input(\"학생의 점수: \"))\n",
    "\n",
    "if 90 <= score:\n",
    "    print(\"A\")\n",
    "elif 80 <= score < 90:\n",
    "    print(\"B\")\n",
    "elif 70 <= score < 80:\n",
    "    print(\"C\")\n",
    "elif 60 <= score < 70:\n",
    "    print(\"D\")\n",
    "else:\n",
    "    print(\"F\")\n",
    "\n"
   ]
  },
  {
   "cell_type": "markdown",
   "id": "532cc968",
   "metadata": {},
   "source": [
    "### 8번 문제"
   ]
  },
  {
   "cell_type": "code",
   "execution_count": null,
   "id": "e17f5f08",
   "metadata": {},
   "outputs": [
    {
     "name": "stdout",
     "output_type": "stream",
     "text": [
      "mana와 hp는 1~1000 사이여야 합니다.\n",
      "해골 kill 재균\n"
     ]
    },
    {
     "ename": "",
     "evalue": "",
     "output_type": "error",
     "traceback": [
      "\u001b[1;31mThe Kernel crashed while executing code in the current cell or a previous cell. \n",
      "\u001b[1;31mPlease review the code in the cell(s) to identify a possible cause of the failure. \n",
      "\u001b[1;31mClick <a href='https://aka.ms/vscodeJupyterKernelCrash'>here</a> for more info. \n",
      "\u001b[1;31mView Jupyter <a href='command:jupyter.viewOutput'>log</a> for further details."
     ]
    }
   ],
   "source": [
    "my_nic = input(\"지민 닉네임: \")\n",
    "enemy_nic = input(\"적 닉네임: \")\n",
    "\n",
    "if not (1 <= len(my_nic) <= 10 and 1 <= len(enemy_nic) <= 10):\n",
    "    print(\"닉네임 길이는 1~10 사이여야 합니다.\")\n",
    "    exit()\n",
    "\n",
    "mana = int(input(\"지민의 마나: \"))\n",
    "hp = int(input(\"적의 체력: \"))\n",
    "\n",
    "if not (1 <= mana <= 1000 and 1 <= hp <= 1000):\n",
    "    print(\"mana와 hp는 1~1000 사이여야 합니다.\")\n",
    "    exit()\n",
    "\n",
    "if mana < 10:\n",
    "    damage = 0\n",
    "else:\n",
    "    damage = mana//10 * 20\n",
    "\n",
    "if damage >= hp:\n",
    "    print(f\"{my_nic} kill {enemy_nic}\")\n",
    "else:\n",
    "    print(f\"{enemy_nic} kill {my_nic}\")\n"
   ]
  }
 ],
 "metadata": {
  "kernelspec": {
   "display_name": "Python 3",
   "language": "python",
   "name": "python3"
  },
  "language_info": {
   "codemirror_mode": {
    "name": "ipython",
    "version": 3
   },
   "file_extension": ".py",
   "mimetype": "text/x-python",
   "name": "python",
   "nbconvert_exporter": "python",
   "pygments_lexer": "ipython3",
   "version": "3.11.8"
  }
 },
 "nbformat": 4,
 "nbformat_minor": 5
}
