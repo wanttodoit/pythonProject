{
 "cells": [
  {
   "cell_type": "markdown",
   "id": "eca324da",
   "metadata": {},
   "source": [
    "## 2025-09-19"
   ]
  },
  {
   "cell_type": "code",
   "execution_count": 1,
   "id": "30bbae12",
   "metadata": {},
   "outputs": [
    {
     "name": "stdout",
     "output_type": "stream",
     "text": [
      "안녕 이제 파이썬을 시작하려고 해\n"
     ]
    }
   ],
   "source": [
    "print(\"안녕 이제 파이썬을 시작하려고 해\")"
   ]
  },
  {
   "cell_type": "code",
   "execution_count": 3,
   "id": "03410d99",
   "metadata": {},
   "outputs": [
    {
     "name": "stdout",
     "output_type": "stream",
     "text": [
      "hello\n"
     ]
    }
   ],
   "source": [
    "print(\"hello\")"
   ]
  },
  {
   "cell_type": "code",
   "execution_count": 11,
   "id": "efd44a98",
   "metadata": {},
   "outputs": [
    {
     "name": "stdout",
     "output_type": "stream",
     "text": [
      "1\n"
     ]
    }
   ],
   "source": [
    "print(5//3)"
   ]
  },
  {
   "cell_type": "code",
   "execution_count": null,
   "id": "51e1717d",
   "metadata": {},
   "outputs": [],
   "source": [
    "str1 = \"Hello\"\n",
    "str2 = \"World\"\n",
    "num1 = 7\n",
    "num2 = 5"
   ]
  },
  {
   "cell_type": "code",
   "execution_count": 19,
   "id": "f21d901d",
   "metadata": {},
   "outputs": [
    {
     "data": {
      "text/plain": [
       "'Hello World'"
      ]
     },
     "execution_count": 19,
     "metadata": {},
     "output_type": "execute_result"
    }
   ],
   "source": [
    "str1 + \" \" +str2"
   ]
  },
  {
   "cell_type": "code",
   "execution_count": 33,
   "id": "f7a7e35d",
   "metadata": {},
   "outputs": [
    {
     "name": "stdout",
     "output_type": "stream",
     "text": [
      "이름은 이재균 입니다.\n"
     ]
    }
   ],
   "source": [
    "name = input(\"이름을 입력하세요:\")\n",
    "print(\"이름은\", name, \"입니다.\")"
   ]
  },
  {
   "cell_type": "code",
   "execution_count": 34,
   "id": "e9a893b5",
   "metadata": {},
   "outputs": [],
   "source": [
    "num1 = 7\n",
    "num2 = 3"
   ]
  },
  {
   "cell_type": "code",
   "execution_count": 36,
   "id": "b0f61b9c",
   "metadata": {},
   "outputs": [
    {
     "data": {
      "text/plain": [
       "10"
      ]
     },
     "execution_count": 36,
     "metadata": {},
     "output_type": "execute_result"
    }
   ],
   "source": [
    "num1 + num2"
   ]
  },
  {
   "cell_type": "code",
   "execution_count": 37,
   "id": "05e42acb",
   "metadata": {},
   "outputs": [
    {
     "data": {
      "text/plain": [
       "4"
      ]
     },
     "execution_count": 37,
     "metadata": {},
     "output_type": "execute_result"
    }
   ],
   "source": [
    "num1 - num2"
   ]
  },
  {
   "cell_type": "code",
   "execution_count": 38,
   "id": "08601361",
   "metadata": {},
   "outputs": [
    {
     "data": {
      "text/plain": [
       "21"
      ]
     },
     "execution_count": 38,
     "metadata": {},
     "output_type": "execute_result"
    }
   ],
   "source": [
    "num1 * num2"
   ]
  },
  {
   "cell_type": "code",
   "execution_count": 39,
   "id": "cb4f5df7",
   "metadata": {},
   "outputs": [
    {
     "data": {
      "text/plain": [
       "2.3333333333333335"
      ]
     },
     "execution_count": 39,
     "metadata": {},
     "output_type": "execute_result"
    }
   ],
   "source": [
    "num1 / num2"
   ]
  },
  {
   "cell_type": "code",
   "execution_count": 41,
   "id": "8e8f38c8",
   "metadata": {},
   "outputs": [
    {
     "name": "stdout",
     "output_type": "stream",
     "text": [
      "10\n",
      "4\n",
      "21\n",
      "2.3333333333333335\n"
     ]
    }
   ],
   "source": [
    "num1 = int(input(\"첫 번째 숫자를 입력하세요:\"))\n",
    "num2 = int(input(\"두 번째 숫자를 입력하세요:\"))\n",
    "\n",
    "print(num1 + num2) \n",
    "print(num1 - num2)\n",
    "print(num1 * num2)\n",
    "print(num1 / num2)\n",
    "\n",
    "\n",
    "\n",
    "\n"
   ]
  },
  {
   "cell_type": "code",
   "execution_count": 42,
   "id": "d42b4f83",
   "metadata": {},
   "outputs": [],
   "source": [
    "int = 100"
   ]
  },
  {
   "cell_type": "code",
   "execution_count": 43,
   "id": "29e43117",
   "metadata": {},
   "outputs": [
    {
     "data": {
      "text/plain": [
       "100"
      ]
     },
     "execution_count": 43,
     "metadata": {},
     "output_type": "execute_result"
    }
   ],
   "source": [
    "int"
   ]
  },
  {
   "cell_type": "code",
   "execution_count": 1,
   "id": "b5bca0a3",
   "metadata": {},
   "outputs": [
    {
     "data": {
      "text/plain": [
       "730"
      ]
     },
     "execution_count": 1,
     "metadata": {},
     "output_type": "execute_result"
    }
   ],
   "source": [
    "int(\"730\")"
   ]
  },
  {
   "cell_type": "code",
   "execution_count": 4,
   "id": "ce6663b9",
   "metadata": {},
   "outputs": [
    {
     "name": "stdout",
     "output_type": "stream",
     "text": [
      "'낮말'은 새가 듣고 '밤말'은 쥐가 듣는다.\n"
     ]
    }
   ],
   "source": [
    "print(\"'낮말'은 새가 듣고 '밤말'은 쥐가 듣는다.\")"
   ]
  },
  {
   "cell_type": "code",
   "execution_count": 5,
   "id": "24095cac",
   "metadata": {},
   "outputs": [
    {
     "name": "stdout",
     "output_type": "stream",
     "text": [
      "7 + 3 = 10\n"
     ]
    }
   ],
   "source": [
    "# f-string\n",
    "num1 = 7\n",
    "num2 = 3\n",
    "\n",
    "print(num1, \"+\", num2, \"=\", num1 + num2)"
   ]
  },
  {
   "cell_type": "code",
   "execution_count": 10,
   "id": "1503dfe1",
   "metadata": {},
   "outputs": [
    {
     "name": "stdout",
     "output_type": "stream",
     "text": [
      "\n",
      "메뉴판\n",
      "김밥: 3,000원\n",
      "떢볶이: 3,500원\n",
      "라면: 2,500원\n",
      "\n",
      "지불하실 금액은 17500원 입니다.\n"
     ]
    }
   ],
   "source": [
    "a = int(input(\"김밥 주문 수:\"))\n",
    "b = int(input(\"떡볶이 주문 수:\"))\n",
    "c = int(input(\"라면 주문 수:\"))\n",
    "\n",
    "print(f\"\"\"\n",
    "메뉴판\n",
    "김밥: 3,000원\n",
    "떢볶이: 3,500원\n",
    "라면: 2,500원\n",
    "      \n",
    "지불하실 금액은 {a*3000+b*3500+c*2500}원 입니다.\"\"\")"
   ]
  },
  {
   "cell_type": "code",
   "execution_count": null,
   "id": "44f24e9d",
   "metadata": {},
   "outputs": [
    {
     "name": "stdout",
     "output_type": "stream",
     "text": [
      "스테이크를 먹는다\n",
      "조건문종료\n"
     ]
    }
   ],
   "source": [
    "money = True\n",
    "\n",
    "if money: \n",
    "    print(\"스테이크를 먹는다\")\n",
    "print('조건문종료')"
   ]
  },
  {
   "cell_type": "code",
   "execution_count": 12,
   "id": "f86f000c",
   "metadata": {},
   "outputs": [
    {
     "name": "stdout",
     "output_type": "stream",
     "text": [
      "좀 더 노력하세요\n"
     ]
    }
   ],
   "source": [
    "eng = 80\n",
    "math = 100\n",
    "\n",
    "if eng >= 90 and math >= 90:\n",
    "    print('스티커')\n",
    "else:\n",
    "    print('좀 더 노력하세요')"
   ]
  },
  {
   "cell_type": "code",
   "execution_count": 22,
   "id": "0848e582",
   "metadata": {},
   "outputs": [
    {
     "name": "stdout",
     "output_type": "stream",
     "text": [
      "숫자를 입력하세요: 3\n",
      "홀수입니다.\n"
     ]
    }
   ],
   "source": [
    "#홀수 짝수 구분하기\n",
    "num = int(input('숫자를 입력하세요: '))\n",
    "\n",
    "print(\"숫자를 입력하세요:\", int(num))\n",
    "if(num%2 == 0):\n",
    "    print('짝수입니다.')\n",
    "else:\n",
    "    print('홀수입니다.')\n"
   ]
  },
  {
   "cell_type": "code",
   "execution_count": 24,
   "id": "23cc7167",
   "metadata": {},
   "outputs": [
    {
     "name": "stdout",
     "output_type": "stream",
     "text": [
      "C\n"
     ]
    }
   ],
   "source": [
    "score = int(input(\"점수 입력: \"))\n",
    "\n",
    "if score >= 90:\n",
    "    print(\"A\")\n",
    "elif score >= 80:\n",
    "    print(\"B\")\n",
    "elif score >= 70:\n",
    "    print(\"C\")\n",
    "elif score >= 60:\n",
    "    print(\"D\")\n",
    "else:\n",
    "    print(\"F\")"
   ]
  },
  {
   "cell_type": "code",
   "execution_count": 27,
   "id": "ca720f3d",
   "metadata": {},
   "outputs": [
    {
     "name": "stdout",
     "output_type": "stream",
     "text": [
      "0번째 Hello\n",
      "1번째 Hello\n",
      "2번째 Hello\n",
      "3번째 Hello\n",
      "4번째 Hello\n",
      "5번째 Hello\n",
      "6번째 Hello\n",
      "7번째 Hello\n",
      "8번째 Hello\n",
      "9번째 Hello\n"
     ]
    }
   ],
   "source": [
    "for i in range(10):\n",
    "    print(f\"{i}번째 Hello\")"
   ]
  },
  {
   "cell_type": "code",
   "execution_count": 31,
   "id": "c4f83474",
   "metadata": {},
   "outputs": [
    {
     "name": "stdout",
     "output_type": "stream",
     "text": [
      "1부터 10까지의 합 = 55\n"
     ]
    }
   ],
   "source": [
    "# for 반복문과 range()함수를 사용해서 1부터 10까지의 합을 출력해주세요!\n",
    "\n",
    "sum = 0\n",
    "for i in range(1,11):\n",
    "    sum = sum + i\n",
    "print(f\"1부터 10까지의 합 = {sum}\")"
   ]
  },
  {
   "cell_type": "code",
   "execution_count": 33,
   "id": "6089fb29",
   "metadata": {},
   "outputs": [
    {
     "name": "stdout",
     "output_type": "stream",
     "text": [
      "1부터 10까지의 곱은 = 55\n"
     ]
    }
   ],
   "source": [
    "times = 0\n",
    "for i in range(1,11):\n",
    "    times = times + i\n",
    "print(f\"1부터 10까지의 곱은 = {times}\")"
   ]
  },
  {
   "cell_type": "code",
   "execution_count": 35,
   "id": "067595ea",
   "metadata": {},
   "outputs": [
    {
     "name": "stdout",
     "output_type": "stream",
     "text": [
      "1번째 Hello\n",
      "2번째 Hello\n",
      "3번째 Hello\n",
      "4번째 Hello\n",
      "5번째 Hello\n"
     ]
    }
   ],
   "source": [
    "# print(\"Hello\") 5번만 출력\n",
    "\n",
    "i = 1\n",
    "while i <= 5:\n",
    "    print(f\"{i}번째 Hello\")\n",
    "    i = i+1\n"
   ]
  },
  {
   "cell_type": "code",
   "execution_count": 45,
   "id": "3deed1d5",
   "metadata": {},
   "outputs": [
    {
     "name": "stdout",
     "output_type": "stream",
     "text": [
      "15\n"
     ]
    }
   ],
   "source": [
    "x = int(input(\"사용자로부터 입력 받은 정수값 : \"))\n",
    "\n",
    "sum = 0\n",
    "i = 1\n",
    "while i <= x:\n",
    "    sum = sum + i\n",
    "    i = i + 1\n",
    "print(sum)\n"
   ]
  },
  {
   "cell_type": "code",
   "execution_count": 47,
   "id": "41c047ce",
   "metadata": {},
   "outputs": [
    {
     "name": "stdout",
     "output_type": "stream",
     "text": [
      "120\n"
     ]
    }
   ],
   "source": [
    "x = int(input(\"사용자로부터 입력 받은 정수값 : \"))\n",
    "\n",
    "times = 1\n",
    "i = 1\n",
    "while i <= x:\n",
    "    times = times * i\n",
    "    i = i + 1\n",
    "print(times)\n"
   ]
  },
  {
   "cell_type": "code",
   "execution_count": 48,
   "id": "396a9fa0",
   "metadata": {},
   "outputs": [
    {
     "name": "stdout",
     "output_type": "stream",
     "text": [
      "5\n",
      "10\n",
      "15\n",
      "20\n",
      "25\n",
      "30\n",
      "35\n",
      "40\n",
      "45\n"
     ]
    }
   ],
   "source": [
    "num = int(input(\"구구단을 외우자: \"))\n",
    "\n",
    "i = 1\n",
    "for i in range(1,10):\n",
    "    multiple = i * num\n",
    "    print(multiple)"
   ]
  },
  {
   "cell_type": "code",
   "execution_count": 52,
   "id": "17955743",
   "metadata": {},
   "outputs": [
    {
     "name": "stdout",
     "output_type": "stream",
     "text": [
      "5 X 1 = 5\n",
      "5 X 2 = 10\n",
      "5 X 3 = 15\n",
      "5 X 4 = 20\n",
      "5 X 5 = 25\n",
      "5 X 6 = 30\n",
      "5 X 7 = 35\n",
      "5 X 8 = 40\n",
      "5 X 9 = 45\n"
     ]
    }
   ],
   "source": [
    "num = int(input(\"구구단을 외우자: \"))\n",
    "\n",
    "i = 1\n",
    "\n",
    "while i < 10:\n",
    "    print(f\"{num} X {i} = {num * i}\")\n",
    "    i = i + 1\n"
   ]
  },
  {
   "cell_type": "code",
   "execution_count": null,
   "id": "5d997699",
   "metadata": {},
   "outputs": [
    {
     "name": "stdout",
     "output_type": "stream",
     "text": [
      "정수 = 6, 합계 = 21\n"
     ]
    }
   ],
   "source": [
    "sum = 0\n",
    "for i in range(1, 10):\n",
    "    sum = sum + i\n",
    "    if sum >= 20:\n",
    "        print(f\"정수 = {i}, 합계 = {sum}\")\n",
    "        break"
   ]
  },
  {
   "cell_type": "code",
   "execution_count": 67,
   "id": "fcd368ce",
   "metadata": {},
   "outputs": [
    {
     "name": "stdout",
     "output_type": "stream",
     "text": [
      "35\n",
      "너무 작아요\n",
      "너무 작아요\n",
      "너무 작아요\n",
      "정답입니다.\n",
      "게임 종료\n"
     ]
    }
   ],
   "source": [
    "import random\n",
    "\n",
    "answer = random.randint(1, 100)\n",
    "print(answer)\n",
    "\n",
    "while True:\n",
    "    guess = int(input(\"1부터 100 사이의 숫자를 맞춰주세요: \"))\n",
    "\n",
    "    if guess == answer:\n",
    "        print(\"정답입니다.\")\n",
    "        break\n",
    "    elif guess > answer:\n",
    "        print(\"너무 커요\")\n",
    "    else:\n",
    "        print(\"너무 작아요\")\n",
    "\n",
    "print(\"게임 종료\")\n"
   ]
  },
  {
   "cell_type": "code",
   "execution_count": null,
   "id": "9cb7aab3",
   "metadata": {},
   "outputs": [
    {
     "name": "stdout",
     "output_type": "stream",
     "text": [
      "1 2 4 7 8 11 13 14 16 17 19 "
     ]
    }
   ],
   "source": [
    "i = 0\n",
    "\n",
    "while True:\n",
    "    i = i + 1\n",
    "    if i >= 20:\n",
    "        break\n",
    "\n",
    "    if i % 3 == 0 or i % 5 == 0:\n",
    "        continue\n",
    "\n",
    "    print(i, end = \" \")\n"
   ]
  },
  {
   "cell_type": "code",
   "execution_count": 84,
   "id": "06abda75",
   "metadata": {},
   "outputs": [
    {
     "name": "stdout",
     "output_type": "stream",
     "text": [
      "2 X 1 = 2\n",
      "2 X 2 = 4\n",
      "2 X 3 = 6\n",
      "2 X 4 = 8\n",
      "2 X 5 = 10\n",
      "2 X 6 = 12\n",
      "2 X 7 = 14\n",
      "2 X 8 = 16\n",
      "2 X 9 = 18\n",
      "3 X 1 = 3\n",
      "3 X 2 = 6\n",
      "3 X 3 = 9\n",
      "3 X 4 = 12\n",
      "3 X 5 = 15\n",
      "3 X 6 = 18\n",
      "3 X 7 = 21\n",
      "3 X 8 = 24\n",
      "3 X 9 = 27\n",
      "4 X 1 = 4\n",
      "4 X 2 = 8\n",
      "4 X 3 = 12\n",
      "4 X 4 = 16\n",
      "4 X 5 = 20\n",
      "4 X 6 = 24\n",
      "4 X 7 = 28\n",
      "4 X 8 = 32\n",
      "4 X 9 = 36\n",
      "5 X 1 = 5\n",
      "5 X 2 = 10\n",
      "5 X 3 = 15\n",
      "5 X 4 = 20\n",
      "5 X 5 = 25\n",
      "5 X 6 = 30\n",
      "5 X 7 = 35\n",
      "5 X 8 = 40\n",
      "5 X 9 = 45\n",
      "6 X 1 = 6\n",
      "6 X 2 = 12\n",
      "6 X 3 = 18\n",
      "6 X 4 = 24\n",
      "6 X 5 = 30\n",
      "6 X 6 = 36\n",
      "6 X 7 = 42\n",
      "6 X 8 = 48\n",
      "6 X 9 = 54\n",
      "7 X 1 = 7\n",
      "7 X 2 = 14\n",
      "7 X 3 = 21\n",
      "7 X 4 = 28\n",
      "7 X 5 = 35\n",
      "7 X 6 = 42\n",
      "7 X 7 = 49\n",
      "7 X 8 = 56\n",
      "7 X 9 = 63\n",
      "8 X 1 = 8\n",
      "8 X 2 = 16\n",
      "8 X 3 = 24\n",
      "8 X 4 = 32\n",
      "8 X 5 = 40\n",
      "8 X 6 = 48\n",
      "8 X 7 = 56\n",
      "8 X 8 = 64\n",
      "8 X 9 = 72\n",
      "9 X 1 = 9\n",
      "9 X 2 = 18\n",
      "9 X 3 = 27\n",
      "9 X 4 = 36\n",
      "9 X 5 = 45\n",
      "9 X 6 = 54\n",
      "9 X 7 = 63\n",
      "9 X 8 = 72\n",
      "9 X 9 = 81\n"
     ]
    }
   ],
   "source": [
    "#dan = 2 # 구구단 몇 단할 때 그 단\n",
    "\n",
    "for dan in range(2, 10):\n",
    "    for i in range(1,10):\n",
    "        print(f\"{dan} X {i} = {dan * i}\")"
   ]
  },
  {
   "cell_type": "code",
   "execution_count": 94,
   "id": "88669a11",
   "metadata": {},
   "outputs": [
    {
     "name": "stdout",
     "output_type": "stream",
     "text": [
      "2 4 6 8 10 12 14 16 18 \n",
      "3 6 9 12 15 18 21 24 27 \n",
      "4 8 12 16 20 24 28 32 36 \n",
      "5 10 15 20 25 30 35 40 45 \n",
      "6 12 18 24 30 36 42 48 54 \n",
      "7 14 21 28 35 42 49 56 63 \n",
      "8 16 24 32 40 48 56 64 72 \n",
      "9 18 27 36 45 54 63 72 81 \n"
     ]
    }
   ],
   "source": [
    "for num in range(2,10):\n",
    "    for i in range(1,10):\n",
    "        print(num*i, end = \" \")\n",
    "    print()"
   ]
  },
  {
   "cell_type": "code",
   "execution_count": null,
   "id": "9cedd698",
   "metadata": {},
   "outputs": [],
   "source": []
  }
 ],
 "metadata": {
  "kernelspec": {
   "display_name": "Python 3",
   "language": "python",
   "name": "python3"
  },
  "language_info": {
   "codemirror_mode": {
    "name": "ipython",
    "version": 3
   },
   "file_extension": ".py",
   "mimetype": "text/x-python",
   "name": "python",
   "nbconvert_exporter": "python",
   "pygments_lexer": "ipython3",
   "version": "3.11.8"
  }
 },
 "nbformat": 4,
 "nbformat_minor": 5
}
