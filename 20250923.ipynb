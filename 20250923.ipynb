{
 "cells": [
  {
   "cell_type": "code",
   "execution_count": null,
   "id": "48f7b13b",
   "metadata": {},
   "outputs": [
    {
     "name": "stdout",
     "output_type": "stream",
     "text": [
      "2\n",
      "1\n"
     ]
    }
   ],
   "source": [
    "a = 1\n",
    "def vartest(a):\n",
    "    a = a+1\n",
    "    return a\n",
    "\n",
    "print(vartest(a))\n",
    "print(a)"
   ]
  },
  {
   "cell_type": "code",
   "execution_count": 2,
   "id": "72a5a18f",
   "metadata": {},
   "outputs": [
    {
     "ename": "SyntaxError",
     "evalue": "name 'a' is parameter and global (3901505718.py, line 4)",
     "output_type": "error",
     "traceback": [
      "  \u001b[36mCell\u001b[39m\u001b[36m \u001b[39m\u001b[32mIn[2]\u001b[39m\u001b[32m, line 4\u001b[39m\n\u001b[31m    \u001b[39m\u001b[31mglobal a\u001b[39m\n    ^\n\u001b[31mSyntaxError\u001b[39m\u001b[31m:\u001b[39m name 'a' is parameter and global\n"
     ]
    }
   ],
   "source": [
    "a = 1\n",
    "\n",
    "def vartest(a):\n",
    "    global a\n",
    "    a = a + 5\n",
    "\n",
    "print(a)\n",
    "vartest(3)\n",
    "print(a)\n"
   ]
  },
  {
   "cell_type": "code",
   "execution_count": 3,
   "id": "593a02c9",
   "metadata": {},
   "outputs": [],
   "source": [
    "def say_myself(name, age, man=True, hobby='coding'):\n",
    "    print(f'{name}, {age}')\n",
    "    print(man)\n",
    "    print(hobby)"
   ]
  },
  {
   "cell_type": "code",
   "execution_count": null,
   "id": "c9c67723",
   "metadata": {},
   "outputs": [
    {
     "name": "stdout",
     "output_type": "stream",
     "text": [
      "jimin, 29\n",
      "False\n",
      "game\n"
     ]
    }
   ],
   "source": [
    "say_myself('jimin', 29, False, hobby = 'game')"
   ]
  },
  {
   "cell_type": "code",
   "execution_count": 7,
   "id": "aeaabce5",
   "metadata": {},
   "outputs": [
    {
     "name": "stdout",
     "output_type": "stream",
     "text": [
      "[(52, 19, 52), (255, 0, 255), (39, 0, 39), (132, 132, 187)]\n",
      "(52, 19, 52)\n",
      "<class 'tuple'>\n"
     ]
    }
   ],
   "source": [
    "r = (52, 255, 39, 132)\n",
    "g = (19, 0, 0, 132)\n",
    "b = (52, 255, 39, 187)\n",
    "\n",
    "img = list(zip(r, g, b))\n",
    "print(img)\n",
    "\n",
    "print(img[0])\n",
    "print(type(img[0]))\n"
   ]
  },
  {
   "cell_type": "code",
   "execution_count": 8,
   "id": "bf81400c",
   "metadata": {},
   "outputs": [],
   "source": [
    "f = ('apple', 'banana', 'cherry', 'date')"
   ]
  },
  {
   "cell_type": "code",
   "execution_count": 11,
   "id": "de377f3e",
   "metadata": {},
   "outputs": [
    {
     "data": {
      "text/plain": [
       "<enumerate at 0x1c0e9ba8770>"
      ]
     },
     "execution_count": 11,
     "metadata": {},
     "output_type": "execute_result"
    }
   ],
   "source": [
    "enumerate(f)"
   ]
  },
  {
   "cell_type": "code",
   "execution_count": 12,
   "id": "d3ca45aa",
   "metadata": {},
   "outputs": [
    {
     "data": {
      "text/plain": [
       "{0: 'apple', 1: 'banana', 2: 'cherry', 3: 'date'}"
      ]
     },
     "execution_count": 12,
     "metadata": {},
     "output_type": "execute_result"
    }
   ],
   "source": [
    "dict(enumerate(f))"
   ]
  },
  {
   "cell_type": "code",
   "execution_count": 16,
   "id": "0fce9c36",
   "metadata": {},
   "outputs": [
    {
     "ename": "NameError",
     "evalue": "name 'result' is not defined",
     "output_type": "error",
     "traceback": [
      "\u001b[31m---------------------------------------------------------------------------\u001b[39m",
      "\u001b[31mNameError\u001b[39m                                 Traceback (most recent call last)",
      "\u001b[36mCell\u001b[39m\u001b[36m \u001b[39m\u001b[32mIn[16]\u001b[39m\u001b[32m, line 9\u001b[39m\n\u001b[32m      6\u001b[39m \u001b[38;5;28;01mfor\u001b[39;00m val \u001b[38;5;129;01min\u001b[39;00m mylist:\n\u001b[32m      7\u001b[39m     result1.append(val + \u001b[32m1\u001b[39m)\n\u001b[32m----> \u001b[39m\u001b[32m9\u001b[39m \u001b[38;5;28mprint\u001b[39m(\u001b[33mf\u001b[39m\u001b[33m'\u001b[39m\u001b[33mresult1 : \u001b[39m\u001b[38;5;132;01m{\u001b[39;00m\u001b[43mresult\u001b[49m\u001b[38;5;132;01m}\u001b[39;00m\u001b[33m'\u001b[39m)\n",
      "\u001b[31mNameError\u001b[39m: name 'result' is not defined"
     ]
    }
   ],
   "source": [
    "mylist = [1, 2, 3, 4, 5]\n",
    "\n",
    "# for 반복문 이용\n",
    "\n",
    "result1 = []\n",
    "for val in mylist:\n",
    "    result1.append(val + 1)\n",
    "\n",
    "print(f'result1 : {result}')"
   ]
  },
  {
   "cell_type": "code",
   "execution_count": 17,
   "id": "62508af1",
   "metadata": {},
   "outputs": [
    {
     "name": "stdout",
     "output_type": "stream",
     "text": [
      "[2, 3, 4, 5, 6]\n"
     ]
    }
   ],
   "source": [
    "mylist = [1, 2, 3, 4, 5]\n",
    "\n",
    "result = []\n",
    "for i in mylist:\n",
    "    result.append(i+1)\n",
    "\n",
    "print(result)"
   ]
  },
  {
   "cell_type": "code",
   "execution_count": 18,
   "id": "b9e65b77",
   "metadata": {},
   "outputs": [
    {
     "data": {
      "text/plain": [
       "[3, -6, 100, 25]"
      ]
     },
     "execution_count": 18,
     "metadata": {},
     "output_type": "execute_result"
    }
   ],
   "source": [
    "mylist = [3.14, -5.6, 100.4, 25.0]\n",
    "\n",
    "result = list(map(round, mylist))\n",
    "result"
   ]
  },
  {
   "cell_type": "code",
   "execution_count": 19,
   "id": "094c163f",
   "metadata": {},
   "outputs": [],
   "source": [
    "a = [8,3,2,10,15,7,1,0,11]"
   ]
  },
  {
   "cell_type": "code",
   "execution_count": 20,
   "id": "ec4274eb",
   "metadata": {},
   "outputs": [
    {
     "data": {
      "text/plain": [
       "[8, 7]"
      ]
     },
     "execution_count": 20,
     "metadata": {},
     "output_type": "execute_result"
    }
   ],
   "source": [
    "result = []\n",
    "for i in a:\n",
    "    if i> 5 and i < 10:\n",
    "        result.append(i)\n",
    "\n",
    "result"
   ]
  },
  {
   "cell_type": "code",
   "execution_count": 21,
   "id": "4ec79f43",
   "metadata": {},
   "outputs": [
    {
     "data": {
      "text/plain": [
       "[8, 7]"
      ]
     },
     "execution_count": 21,
     "metadata": {},
     "output_type": "execute_result"
    }
   ],
   "source": [
    "list(filter(lambda x: x>5 and x<10, a))"
   ]
  },
  {
   "cell_type": "code",
   "execution_count": 24,
   "id": "f7418a55",
   "metadata": {},
   "outputs": [
    {
     "name": "stdout",
     "output_type": "stream",
     "text": [
      "[1, 4, 9, 16]\n"
     ]
    }
   ],
   "source": [
    "numbers = [1, 2, 3, 4]\n",
    "squared = list(map(lambda x: x**2, numbers))\n",
    "\n",
    "print(squared)\n"
   ]
  },
  {
   "cell_type": "code",
   "execution_count": null,
   "id": "17e7647b",
   "metadata": {},
   "outputs": [
    {
     "name": "stdout",
     "output_type": "stream",
     "text": [
      "[2, 4]\n"
     ]
    }
   ],
   "source": [
    "numbers = [1, 2, 3, 4, 5]\n",
    "even_numbers = list(filter(lambda x: x%2 == 0, numbers))\n",
    "print(even_numbers)"
   ]
  },
  {
   "cell_type": "code",
   "execution_count": 28,
   "id": "273682b1",
   "metadata": {},
   "outputs": [
    {
     "name": "stdout",
     "output_type": "stream",
     "text": [
      "[(5, 1), (1, 2), (3, 4)]\n"
     ]
    }
   ],
   "source": [
    "points = [(1, 2), (3, 4), (5, 1)]\n",
    "sorted_points = sorted(points, key = lambda x: x[1])\n",
    "print(sorted_points)"
   ]
  },
  {
   "cell_type": "code",
   "execution_count": 2,
   "id": "d844d6b7",
   "metadata": {},
   "outputs": [
    {
     "name": "stdout",
     "output_type": "stream",
     "text": [
      "[1, 2, 4, 3]\n"
     ]
    }
   ],
   "source": [
    "score = [[80, 70], [90, 50], [40, 70], [50, 80]]\n",
    "\n",
    "\n",
    "def rank(score):\n",
    "    result = []\n",
    "    # YOUR_CODE_HERE\n",
    "    # 1. 평균값을 가지는 리스트\n",
    "    avg = []\n",
    "    for i, j in score:\n",
    "        # print((i+j)/2)\n",
    "        avg.append((i+j)/2)\n",
    "    # print(avg)\n",
    "    # [75.0 70.0 55.0 65.0]\n",
    "\n",
    "    # 2. 평균값을 내림차순으로 정렬\n",
    "    avg_sort = sorted(avg, reverse = True)\n",
    "    # print(avg_sort)\n",
    "    # [75.0, 70.0, 65.0, 55.0]\n",
    "\n",
    "    # 3. 비교해서 등수 처리\n",
    "    for i in avg:\n",
    "        result.append(avg_sort.index(i) + 1)\n",
    "    \n",
    "    # print(result)\n",
    "    # [1, 2, 4, 3]\n",
    "\n",
    "    return result\n",
    "\n",
    "print(rank(score))\n",
    "\n"
   ]
  },
  {
   "cell_type": "code",
   "execution_count": 5,
   "id": "4a9fd7ef",
   "metadata": {},
   "outputs": [
    {
     "name": "stdout",
     "output_type": "stream",
     "text": [
      "[1, 2, 4, 3]\n"
     ]
    }
   ],
   "source": [
    "def rank(score):\n",
    "    avg = [(i+j)/2 for i, j in score]\n",
    "    avg_sort = sorted(avg,reverse = True)\n",
    "    result = [avg_sort.index(i) + 1 for i in avg]\n",
    "    return result\n",
    "\n",
    "print(rank(score))"
   ]
  },
  {
   "cell_type": "code",
   "execution_count": 11,
   "id": "71a13d6b",
   "metadata": {},
   "outputs": [
    {
     "name": "stdout",
     "output_type": "stream",
     "text": [
      "[True, True, False, True, False, True, False, False]\n"
     ]
    }
   ],
   "source": [
    "# 소수판별함수 is_prime\n",
    "\n",
    "def is_prime(num_list):\n",
    "    result = []\n",
    "    for num in num_list:\n",
    "        isprime = True\n",
    "        for i in range(2, num):\n",
    "            if num % i == 0:\n",
    "                isprime = False\n",
    "                break\n",
    "        result.append(isprime)\n",
    "    return result\n",
    "\n",
    "\n",
    "\n",
    "print(is_prime([2,3,4,5,6,7,8,9]))\n"
   ]
  },
  {
   "cell_type": "code",
   "execution_count": 38,
   "id": "cb747dda",
   "metadata": {},
   "outputs": [
    {
     "data": {
      "text/plain": [
       "1"
      ]
     },
     "execution_count": 38,
     "metadata": {},
     "output_type": "execute_result"
    }
   ],
   "source": [
    "import random as r\n",
    "\n",
    "r.randint(1, 100)\n",
    "r.randrange(1, 5)"
   ]
  },
  {
   "cell_type": "code",
   "execution_count": 35,
   "id": "2935b958",
   "metadata": {},
   "outputs": [
    {
     "ename": "NameError",
     "evalue": "name 'randrange' is not defined",
     "output_type": "error",
     "traceback": [
      "\u001b[31m---------------------------------------------------------------------------\u001b[39m",
      "\u001b[31mNameError\u001b[39m                                 Traceback (most recent call last)",
      "\u001b[36mCell\u001b[39m\u001b[36m \u001b[39m\u001b[32mIn[35]\u001b[39m\u001b[32m, line 4\u001b[39m\n\u001b[32m      1\u001b[39m \u001b[38;5;28;01mfrom\u001b[39;00m\u001b[38;5;250m \u001b[39m\u001b[34;01mrandom\u001b[39;00m\u001b[38;5;250m \u001b[39m\u001b[38;5;28;01mimport\u001b[39;00m randint\n\u001b[32m      3\u001b[39m randint(\u001b[32m1\u001b[39m, \u001b[32m100\u001b[39m)\n\u001b[32m----> \u001b[39m\u001b[32m4\u001b[39m \u001b[43mrandrange\u001b[49m(\u001b[32m1\u001b[39m, \u001b[32m3\u001b[39m)\n",
      "\u001b[31mNameError\u001b[39m: name 'randrange' is not defined"
     ]
    }
   ],
   "source": [
    "from random import randint\n",
    "\n",
    "randint(1, 100)\n",
    "randrange(1, 3)"
   ]
  },
  {
   "cell_type": "code",
   "execution_count": 55,
   "id": "16de3a99",
   "metadata": {},
   "outputs": [
    {
     "name": "stdout",
     "output_type": "stream",
     "text": [
      "[16, 42, 5, 34, 3, 27]\n"
     ]
    }
   ],
   "source": [
    "import random as r\n",
    "\n",
    "result = []\n",
    "while len(result) < 6:\n",
    "    num = r.randint(1,45)\n",
    "    if num not in result:\n",
    "        result.append(num)\n",
    "\n",
    "print(result)"
   ]
  },
  {
   "cell_type": "code",
   "execution_count": 58,
   "id": "1d4a237f",
   "metadata": {},
   "outputs": [
    {
     "ename": "NameError",
     "evalue": "name 'sel' is not defined",
     "output_type": "error",
     "traceback": [
      "\u001b[31m---------------------------------------------------------------------------\u001b[39m",
      "\u001b[31mNameError\u001b[39m                                 Traceback (most recent call last)",
      "\u001b[36mCell\u001b[39m\u001b[36m \u001b[39m\u001b[32mIn[58]\u001b[39m\u001b[32m, line 3\u001b[39m\n\u001b[32m      1\u001b[39m \u001b[38;5;28;01mwhile\u001b[39;00m \u001b[38;5;28;01mTrue\u001b[39;00m:\n\u001b[32m      2\u001b[39m     user = \u001b[38;5;28minput\u001b[39m(\u001b[33m\"\u001b[39m\u001b[33m가위, 바위, 보: \u001b[39m\u001b[33m\"\u001b[39m)\n\u001b[32m----> \u001b[39m\u001b[32m3\u001b[39m     com = \u001b[43msel\u001b[49m[random.randint(\u001b[32m0\u001b[39m,\u001b[32m2\u001b[39m)]\n\u001b[32m      4\u001b[39m     \u001b[38;5;28;01mif\u001b[39;00m checkWin(user, com):\n\u001b[32m      5\u001b[39m         \u001b[38;5;28;01mif\u001b[39;00m continueComfirm():\n",
      "\u001b[31mNameError\u001b[39m: name 'sel' is not defined"
     ]
    }
   ],
   "source": [
    "while True:\n",
    "    user = input(\"가위, 바위, 보: \")\n",
    "    com = sel[random.randint(0,2)]\n",
    "    if checkWin(user, com):\n",
    "        if continueComfirm():\n",
    "            continue\n",
    "        else:\n",
    "            break"
   ]
  },
  {
   "cell_type": "markdown",
   "id": "4519d323",
   "metadata": {},
   "source": [
    "### 사용자 정의 모듈"
   ]
  },
  {
   "cell_type": "code",
   "execution_count": 62,
   "id": "bbcf318e",
   "metadata": {},
   "outputs": [
    {
     "name": "stdout",
     "output_type": "stream",
     "text": [
      "10\n",
      "-2\n"
     ]
    }
   ],
   "source": [
    "import mymodule as mm\n",
    "\n",
    "print(mm.my_add(7, 3))\n",
    "\n",
    "\n",
    "print(mm.my_sub(3, 5))\n"
   ]
  }
 ],
 "metadata": {
  "kernelspec": {
   "display_name": "Python 3",
   "language": "python",
   "name": "python3"
  },
  "language_info": {
   "codemirror_mode": {
    "name": "ipython",
    "version": 3
   },
   "file_extension": ".py",
   "mimetype": "text/x-python",
   "name": "python",
   "nbconvert_exporter": "python",
   "pygments_lexer": "ipython3",
   "version": "3.11.8"
  }
 },
 "nbformat": 4,
 "nbformat_minor": 5
}
