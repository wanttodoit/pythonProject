{
 "cells": [
  {
   "cell_type": "code",
   "execution_count": null,
   "id": "fbef3582",
   "metadata": {},
   "outputs": [],
   "source": [
    "n = 10\n",
    "\n",
    "for i in range(1, n+1):\n",
    "    for j in range(n-i):\n",
    "        print(\" \", end='')\n",
    "    for j in range(2*i - 1):\n",
    "        print(\"*\", end='')\n",
    "    print()\n"
   ]
  },
  {
   "cell_type": "code",
   "execution_count": null,
   "id": "1c37260f",
   "metadata": {},
   "outputs": [],
   "source": [
    "n = 10\n",
    "for i in range(1, n+1):\n",
    "    spaces = ' ' * (n-i)\n",
    "    stars = '*' * (2*i - 1)\n",
    "    print(spaces + stars)"
   ]
  },
  {
   "cell_type": "code",
   "execution_count": null,
   "id": "64d71f5a",
   "metadata": {},
   "outputs": [],
   "source": [
    "number = 0\n",
    "for i in range(5):\n",
    "    for j in range(5):\n",
    "        print(f\"(i = {i}, j = {j})\")\n",
    "        number = i*j\n",
    "        if i == 2 and j == 3:\n",
    "            break\n",
    "    if i == 2 and j ==3:\n",
    "        break\n",
    "\n",
    "print(number)"
   ]
  },
  {
   "cell_type": "code",
   "execution_count": null,
   "id": "de2279e5",
   "metadata": {},
   "outputs": [],
   "source": [
    "n = 10\n",
    "\n",
    "for i in range(1, n+1):\n",
    "    print(\"*\" * i)\n",
    "    if (2*i - 1) > 30:\n",
    "        break\n",
    "\n",
    "\n",
    "\n"
   ]
  },
  {
   "cell_type": "code",
   "execution_count": null,
   "id": "32aa7b84",
   "metadata": {},
   "outputs": [],
   "source": [
    "n = 30\n",
    "star = 0\n",
    "break_all = False\n",
    "\n",
    "for i in range(1, 10+1):\n",
    "    for j in range(i):\n",
    "        star = star + 1\n",
    "        if star > n:\n",
    "            break_all = True\n",
    "            break\n",
    "        print('*', end='')\n",
    "    if break_all:\n",
    "        break\n",
    "    print()"
   ]
  },
  {
   "cell_type": "code",
   "execution_count": null,
   "id": "6b73617a",
   "metadata": {},
   "outputs": [],
   "source": [
    "my_str = \"Hello, Python\"\n",
    "\n",
    "my_str[::-1]"
   ]
  },
  {
   "cell_type": "code",
   "execution_count": null,
   "id": "15205d7d",
   "metadata": {},
   "outputs": [],
   "source": [
    "for i in my_str:\n",
    "    print(i, end='')"
   ]
  },
  {
   "cell_type": "code",
   "execution_count": null,
   "id": "d79bd112",
   "metadata": {},
   "outputs": [],
   "source": [
    "numbers = [10, 20, 30, 40, 50]\n",
    "\n",
    "print(numbers)"
   ]
  },
  {
   "cell_type": "code",
   "execution_count": null,
   "id": "3c3e6807",
   "metadata": {},
   "outputs": [],
   "source": [
    "numbers = [i for i in range(1, 11)]\n",
    "\n",
    "numbers"
   ]
  },
  {
   "cell_type": "code",
   "execution_count": null,
   "id": "4eb58717",
   "metadata": {},
   "outputs": [],
   "source": [
    "marks = [90, 25, 67, 45, 80]\n",
    "\n",
    "for i in range(len(marks)):\n",
    "    if marks[i] >= 60:\n",
    "        print((f\"{i+1}번 학생은 합격입니다.\"))\n",
    "    else:\n",
    "        print(f\"{i+1}번 학생은 불합격입니다.\")\n"
   ]
  },
  {
   "cell_type": "code",
   "execution_count": null,
   "id": "d2312e51",
   "metadata": {},
   "outputs": [],
   "source": [
    "print(\"끝말잇기 게임\")\n",
    "print(\"시작\")\n",
    "var = \"가나다\"\n",
    "\n",
    "print(var)\n",
    "while True:\n",
    "    answer = input(\"단어를 입력해주세요: \")\n",
    "    print(answer)\n",
    "    if answer[0] == var[-1]:\n",
    "        var = answer\n",
    "    else:\n",
    "        print(\"땡\")\n",
    "        break\n",
    "\n",
    "\n",
    "print(var)"
   ]
  },
  {
   "cell_type": "code",
   "execution_count": null,
   "id": "b3759ee3",
   "metadata": {},
   "outputs": [],
   "source": [
    "numbers = [4, 4, 4, 3, 3]\n",
    "\n",
    "answer = []\n",
    "comp = numbers[0]\n",
    "answer.append(comp)\n",
    "\n",
    "for i in numbers:\n",
    "    if comp!= i:\n",
    "        comp = i\n",
    "        answer.append(comp)\n",
    "\n",
    "answer\n"
   ]
  },
  {
   "cell_type": "code",
   "execution_count": null,
   "id": "2af887d2",
   "metadata": {},
   "outputs": [],
   "source": [
    "student = {'name': 'Jimin', 'age': 29, 'hobby': 'game'}"
   ]
  },
  {
   "cell_type": "code",
   "execution_count": null,
   "id": "d98048dd",
   "metadata": {},
   "outputs": [],
   "source": [
    "type(student)"
   ]
  },
  {
   "cell_type": "code",
   "execution_count": null,
   "id": "ea71d2fb",
   "metadata": {},
   "outputs": [],
   "source": [
    "#모스부호  \n",
    " \n",
    "\n",
    "#문자열 letter가 주어질 때, \n",
    "#letter를 영어 소문자로 바꾼 문자열을 출력 하도록 코드작성 \n",
    " \n",
    "\n",
    "#모스부호는 다음과 같습니다. \n",
    "\n",
    "morse = { \n",
    "\n",
    "    '.-':'a','-...':'b','-.-.':'c','-..':'d','.':'e','..-.':'f', \n",
    "\n",
    "    '--.':'g','....':'h','..':'i','.---':'j','-.-':'k','.-..':'l', \n",
    "\n",
    "    '--':'m','-.':'n','---':'o','.--.':'p','--.-':'q','.-.':'r', \n",
    "\n",
    "    '...':'s','-':'t','..-':'u','...-':'v','.--':'w','-..-':'x', \n",
    "\n",
    "    '-.--':'y','--..':'z' \n",
    "\n",
    "} \n",
    "\n",
    "morse_input = input(\"모스 부호를 입력하시오\").split(' ')\n",
    "\n",
    "for i in morse_input:\n",
    "    print(morse[i], end='')\n",
    "#입출력 예 \n",
    "\n",
    "#letter  result \n",
    "\n",
    "#\".... . .-.. .-.. ---\"  \"hello\" \n",
    "\n",
    "#\".--. -.-- - .... --- -.\"   \"python\" "
   ]
  },
  {
   "cell_type": "code",
   "execution_count": null,
   "id": "75b53988",
   "metadata": {},
   "outputs": [],
   "source": [
    "morse = { \n",
    "\n",
    "    '.-':'a','-...':'b','-.-.':'c','-..':'d','.':'e','..-.':'f', \n",
    "\n",
    "    '--.':'g','....':'h','..':'i','.---':'j','-.-':'k','.-..':'l', \n",
    "\n",
    "    '--':'m','-.':'n','---':'o','.--.':'p','--.-':'q','.-.':'r', \n",
    "\n",
    "    '...':'s','-':'t','..-':'u','...-':'v','.--':'w','-..-':'x', \n",
    "\n",
    "    '-.--':'y','--..':'z' \n",
    "\n",
    "} \n",
    "\n",
    "letter = \".... . .-.. .-.. ---\"\n",
    "\n",
    "a = letter.split()\n",
    "\n",
    "answer = ''\n",
    "for i in a:\n",
    "    answer += morse[i]\n",
    "\n",
    "print(answer)"
   ]
  },
  {
   "cell_type": "markdown",
   "id": "82eb42dc",
   "metadata": {},
   "source": [
    "### set 자료형"
   ]
  },
  {
   "cell_type": "code",
   "execution_count": 79,
   "id": "7e57bb46",
   "metadata": {},
   "outputs": [
    {
     "data": {
      "text/plain": [
       "('a', 4, ('ab', 'g'))"
      ]
     },
     "execution_count": 79,
     "metadata": {},
     "output_type": "execute_result"
    }
   ],
   "source": [
    "t1 = ('a', 4, ('ab', 'g'))\n",
    "t1"
   ]
  },
  {
   "cell_type": "code",
   "execution_count": 84,
   "id": "0c3f6564",
   "metadata": {},
   "outputs": [
    {
     "data": {
      "text/plain": [
       "['누드초코', '아몬드', '초코', '크런키', '화이트쿠키']"
      ]
     },
     "execution_count": 84,
     "metadata": {},
     "output_type": "execute_result"
    }
   ],
   "source": [
    "# 빼빼로데이\n",
    "\n",
    "# 빼빼로의 종류는 6가지 맛('누드초코', '아몬드', '초코', '크런키', '크림치즈', '화이트쿠키')이 있었습니다.\n",
    "# 이벤트 빼빼로는 한가지 맛에 하나만 구매할 수 있습니다.\n",
    "# 구매한 빼빼로를 오름차순으로 정렬하여 결과를 나타내 주세요.\n",
    "\n",
    "pepero = [\"초코\", \"누드초코\", \"크런키\", \"아몬드\", \"초코\", \"누드초코\", \"아몬드\", \"화이트쿠키\", \"초코\", \"초코\"]\n",
    "\n",
    "answer = list(set(pepero))\n",
    "answer.sort()\n",
    "\n",
    "\n",
    "answer\n",
    "\n",
    "# answer = ['누드초코', '아몬드', '초코', '크런키', '화이트쿠키']"
   ]
  },
  {
   "cell_type": "code",
   "execution_count": 92,
   "id": "1176611b",
   "metadata": {},
   "outputs": [
    {
     "name": "stdout",
     "output_type": "stream",
     "text": [
      "7\n"
     ]
    }
   ],
   "source": [
    "# 영단어갯수세기\n",
    "# 내가 외운 단어의 개수는 몇개일까요?\n",
    "\n",
    "str = \"culture experience symbol symbol education symbol effect education affair liberty liberty affair\"\n",
    "\n",
    "answer = set(str.split())\n",
    "\n",
    "print(len(answer))\n",
    "\n",
    "# 출력1\n",
    "# 7"
   ]
  },
  {
   "cell_type": "code",
   "execution_count": 98,
   "id": "612f3d98",
   "metadata": {},
   "outputs": [],
   "source": [
    "def my_func(a):\n",
    "    print(f\"{a}, 내가 만든 함수입니다\")"
   ]
  },
  {
   "cell_type": "code",
   "execution_count": 99,
   "id": "474504f7",
   "metadata": {},
   "outputs": [
    {
     "name": "stdout",
     "output_type": "stream",
     "text": [
      "Hey, 내가 만든 함수입니다\n",
      "Hallo, 내가 만든 함수입니다\n",
      "Hi, 내가 만든 함수입니다\n"
     ]
    }
   ],
   "source": [
    "my_func(\"Hey\")\n",
    "my_func(\"Hallo\")\n",
    "my_func(\"Hi\")"
   ]
  },
  {
   "cell_type": "code",
   "execution_count": 103,
   "id": "475394cc",
   "metadata": {},
   "outputs": [
    {
     "data": {
      "text/plain": [
       "12"
      ]
     },
     "execution_count": 103,
     "metadata": {},
     "output_type": "execute_result"
    }
   ],
   "source": [
    "def num_max(a, b, c):\n",
    "    return max(a, b, c)\n",
    "\n",
    "\n",
    "num = num_max(10, 12, 7)\n",
    "num #12"
   ]
  },
  {
   "cell_type": "code",
   "execution_count": null,
   "id": "a6de3dde",
   "metadata": {},
   "outputs": [
    {
     "data": {
      "text/plain": [
       "24"
      ]
     },
     "execution_count": 105,
     "metadata": {},
     "output_type": "execute_result"
    }
   ],
   "source": [
    "def num_min(arr):\n",
    "    answer = arr[0]\n",
    "    for i in arr:\n",
    "        if answer > i:\n",
    "            answer = i\n",
    "    return answer\n",
    "\n",
    "num_min([52, 273, 32, 103, 275, 24, 57])\n"
   ]
  },
  {
   "cell_type": "code",
   "execution_count": 106,
   "id": "911f398c",
   "metadata": {},
   "outputs": [],
   "source": [
    "def add_many(*args):\n",
    "    pass"
   ]
  },
  {
   "cell_type": "code",
   "execution_count": 107,
   "id": "53c1c796",
   "metadata": {},
   "outputs": [],
   "source": [
    "add_many(1, 2)"
   ]
  },
  {
   "cell_type": "code",
   "execution_count": 109,
   "id": "ae439761",
   "metadata": {},
   "outputs": [],
   "source": [
    "def add_mul(choice, *args):\n",
    "    print(choice, args)\n",
    "    if choice == 'add':\n",
    "        pass\n",
    "    elif choice == 'mul':\n",
    "        pass\n",
    "    else:\n",
    "        print(\"연산자 종류 확인 요망!!!\")\n",
    "\n"
   ]
  },
  {
   "cell_type": "code",
   "execution_count": null,
   "id": "2135f7a5",
   "metadata": {},
   "outputs": [],
   "source": []
  }
 ],
 "metadata": {
  "kernelspec": {
   "display_name": "Python 3",
   "language": "python",
   "name": "python3"
  },
  "language_info": {
   "codemirror_mode": {
    "name": "ipython",
    "version": 3
   },
   "file_extension": ".py",
   "mimetype": "text/x-python",
   "name": "python",
   "nbconvert_exporter": "python",
   "pygments_lexer": "ipython3",
   "version": "3.11.8"
  }
 },
 "nbformat": 4,
 "nbformat_minor": 5
}
